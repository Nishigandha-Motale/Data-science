{
  "nbformat": 4,
  "nbformat_minor": 0,
  "metadata": {
    "colab": {
      "provenance": []
    },
    "kernelspec": {
      "name": "python3",
      "display_name": "Python 3"
    },
    "language_info": {
      "name": "python"
    }
  },
  "cells": [
    {
      "cell_type": "code",
      "source": [
        "import numpy as np\n",
        "import pandas as pd\n",
        "import matplotlib.pyplot as plt\n",
        "\n",
        "from sklearn.cluster import KMeans"
      ],
      "metadata": {
        "id": "0EImc2YSerZr"
      },
      "execution_count": null,
      "outputs": []
    },
    {
      "cell_type": "code",
      "source": [
        "Univ = pd.read_csv(\"https://raw.githubusercontent.com/slmsshk/DataSet/main/Universities.csv\")"
      ],
      "metadata": {
        "id": "L1sFwpc_ewCt"
      },
      "execution_count": null,
      "outputs": []
    },
    {
      "cell_type": "code",
      "source": [
        "# Standardisation function \n",
        "from sklearn.preprocessing import StandardScaler\n",
        "scaler = StandardScaler()\n",
        "scaled_Univ_df = scaler.fit_transform(Univ.iloc[:,1:])"
      ],
      "metadata": {
        "id": "4kbFeXaVe16u"
      },
      "execution_count": null,
      "outputs": []
    },
    {
      "cell_type": "code",
      "source": [
        "scaled_Univ_df"
      ],
      "metadata": {
        "colab": {
          "base_uri": "https://localhost:8080/"
        },
        "id": "3iNSC3wre6Xn",
        "outputId": "3eff1982-f4c6-4b3e-bd14-d85d6162dd49"
      },
      "execution_count": null,
      "outputs": [
        {
          "output_type": "execute_result",
          "data": {
            "text/plain": [
              "array([[ 0.41028362,  0.6575195 , -0.88986682,  0.07026045, -0.33141256,\n",
              "         0.82030265],\n",
              "       [ 1.39925928,  1.23521235, -0.73465749, -1.68625071,  2.56038138,\n",
              "        -0.64452351],\n",
              "       [-0.06065717, -0.76045386,  1.02438157, -0.93346022, -0.16712136,\n",
              "        -1.65863393],\n",
              "       [ 0.41028362, -0.02520842, -0.78639393, -0.18066972,  0.29164871,\n",
              "         0.14422904],\n",
              "       [ 0.12771914,  0.34241431, -0.32076595,  0.07026045, -0.39084607,\n",
              "         0.36958691],\n",
              "       [ 0.69284809,  0.6575195 , -0.83813038, -0.68253005,  0.33778044,\n",
              "         0.93298158],\n",
              "       [ 0.4573777 ,  0.71003703, -0.47597528, -0.18066972,  0.29695528,\n",
              "         0.93298158],\n",
              "       [-0.10775125, -0.13024348, -0.78639393, -0.18066972, -0.51381683,\n",
              "         0.59494478],\n",
              "       [ 1.25797704,  0.76255456, -1.30375836, -0.43159988,  0.85874344,\n",
              "         1.15833946],\n",
              "       [ 0.36318954, -0.07772595,  0.24833493, -1.43532055,  2.21481798,\n",
              "         0.0315501 ],\n",
              "       [ 1.06960072,  0.92010716, -0.47597528, -0.68253005,  0.52938275,\n",
              "         0.48226584],\n",
              "       [-0.06065717,  0.44744937, -0.01034729, -0.43159988,  0.04698077,\n",
              "         0.25690797],\n",
              "       [-0.10775125,  0.23737924,  0.14486204,  0.07026045, -0.86787073,\n",
              "         0.82030265],\n",
              "       [-1.7466252 , -2.02087462,  0.76569936,  1.32491127, -1.21718409,\n",
              "        -0.75720245],\n",
              "       [ 1.02250664,  0.76255456, -1.30375836, -1.18439038,  0.20037583,\n",
              "         0.93298158],\n",
              "       [-2.46245521, -2.54604994,  2.6282113 ,  1.57584144, -1.29635802,\n",
              "        -1.99667073],\n",
              "       [ 0.88122441,  0.71003703, -0.9933397 , -0.18066972,  0.64117435,\n",
              "         0.70762371],\n",
              "       [-1.8031381 , -1.44318177,  1.43827311,  3.08142243, -1.32197103,\n",
              "        -2.22202861],\n",
              "       [-0.24903349,  0.97262469,  0.04138915,  1.07398111, -0.86659715,\n",
              "        -0.98256032],\n",
              "       [ 0.2219073 , -0.07772595,  0.55875358,  0.07026045,  0.77772991,\n",
              "         0.0315501 ],\n",
              "       [-0.81416244, -0.60290126,  1.49000956,  0.82305094, -0.84324827,\n",
              "        -0.19380777],\n",
              "       [ 0.17481322,  0.18486171, -0.16555662, -0.43159988,  0.01167444,\n",
              "         0.36958691],\n",
              "       [-0.39031573,  0.02730912,  0.24833493,  0.32119061, -0.99331788,\n",
              "         0.59494478],\n",
              "       [-1.70894994, -1.91583956,  1.541746  ,  0.57212078, -1.09888311,\n",
              "        -1.77131286],\n",
              "       [ 1.02250664,  0.97262469, -1.04507615, -0.43159988,  1.14098185,\n",
              "         1.04566052]])"
            ]
          },
          "metadata": {},
          "execution_count": 28
        }
      ]
    },
    {
      "cell_type": "code",
      "source": [
        "# How to find optimum number of  cluster\n",
        "#The K-means algorithm aims to choose centroids that minimise the inertia, or within-cluster sum-of-squares criterion:"
      ],
      "metadata": {
        "id": "gWrzFpo_fAts"
      },
      "execution_count": null,
      "outputs": []
    },
    {
      "cell_type": "code",
      "source": [
        "kmeans = KMeans(n_clusters=4,random_state=0)\n",
        "predict=kmeans.fit_predict(scaled_Univ_df)"
      ],
      "metadata": {
        "id": "4klp9nbRfNbP"
      },
      "execution_count": null,
      "outputs": []
    },
    {
      "cell_type": "code",
      "source": [
        "predict"
      ],
      "metadata": {
        "colab": {
          "base_uri": "https://localhost:8080/"
        },
        "id": "ong9oCV8fVkr",
        "outputId": "436dec35-eeda-4b8e-ce10-51b037abeae0"
      },
      "execution_count": null,
      "outputs": [
        {
          "output_type": "execute_result",
          "data": {
            "text/plain": [
              "array([2, 3, 0, 2, 0, 2, 2, 0, 2, 3, 2, 0, 0, 1, 2, 1, 2, 1, 0, 0, 0, 0,\n",
              "       0, 1, 2], dtype=int32)"
            ]
          },
          "metadata": {},
          "execution_count": 31
        }
      ]
    },
    {
      "cell_type": "code",
      "source": [
        "kmeans.inertia_"
      ],
      "metadata": {
        "colab": {
          "base_uri": "https://localhost:8080/"
        },
        "id": "FeWv3FfdfYaT",
        "outputId": "19b04653-6e5e-49ab-b2fc-d360700fe294"
      },
      "execution_count": null,
      "outputs": [
        {
          "output_type": "execute_result",
          "data": {
            "text/plain": [
              "33.654341806512235"
            ]
          },
          "metadata": {},
          "execution_count": 32
        }
      ]
    },
    {
      "cell_type": "code",
      "source": [
        "wcss"
      ],
      "metadata": {
        "colab": {
          "base_uri": "https://localhost:8080/"
        },
        "id": "qjaOxxYpfbWh",
        "outputId": "0b591531-bd6e-4b97-d346-4aa6246a378c"
      },
      "execution_count": null,
      "outputs": [
        {
          "output_type": "execute_result",
          "data": {
            "text/plain": [
              "[]"
            ]
          },
          "metadata": {},
          "execution_count": 33
        }
      ]
    },
    {
      "cell_type": "code",
      "source": [
        "wcss = []\n",
        "for i in range(1, 11):\n",
        "    kmeans = KMeans(n_clusters=i,random_state=0)\n",
        "    kmeans.fit(scaled_Univ_df)\n",
        "    wcss.append(kmeans.inertia_)\n",
        "    \n",
        "plt.plot(range(1, 11), wcss)\n",
        "plt.title('Elbow Method')\n",
        "plt.xlabel('Number of clusters')\n",
        "plt.ylabel('WCSS')\n",
        "plt.show()"
      ],
      "metadata": {
        "colab": {
          "base_uri": "https://localhost:8080/",
          "height": 295
        },
        "id": "C7ZeXOdffesb",
        "outputId": "ca38480e-1c85-4f9d-9632-12248bd35c83"
      },
      "execution_count": null,
      "outputs": [
        {
          "output_type": "display_data",
          "data": {
            "text/plain": [
              "<Figure size 432x288 with 1 Axes>"
            ],
            "image/png": "[encoded data removed]"
          },
          "metadata": {
            "needs_background": "light"
          }
        }
      ]
    },
    {
      "cell_type": "code",
      "source": [],
      "metadata": {
        "id": "40-i-GwDfjhz"
      },
      "execution_count": null,
      "outputs": []
    }
  ]
}